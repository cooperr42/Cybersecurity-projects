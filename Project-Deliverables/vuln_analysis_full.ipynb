{
 "cells": [
  {
   "cell_type": "markdown",
   "id": "62a0d244",
   "metadata": {},
   "source": [
    "# Cybersecurity Vulnerability Analysis\n",
    "\n",
    "This notebook performs data acquisition, cleaning, exploratory analysis, and modeling using NVD, KEV, and CWE datasets."
   ]
  },
  {
   "cell_type": "markdown",
   "id": "36e53318",
   "metadata": {},
   "source": [
    "## 1. Imports and Setup"
   ]
  },
  {
   "cell_type": "code",
   "execution_count": 24,
   "id": "c81a5eac",
   "metadata": {},
   "outputs": [],
   "source": [
    "import json\n",
    "import gzip\n",
    "import requests\n",
    "import pandas as pd\n",
    "import zipfile\n",
    "from io import BytesIO\n",
    "from datetime import datetime\n",
    "from sklearn.linear_model import LogisticRegression\n",
    "import matplotlib.pyplot as plt\n",
    "\n",
    "pd.options.display.max_columns = None"
   ]
  },
  {
   "cell_type": "markdown",
   "id": "be063aa4",
   "metadata": {},
   "source": [
    "## 2. Data Processing Functions"
   ]
  },
  {
   "cell_type": "code",
   "execution_count": 27,
   "id": "4f442787",
   "metadata": {},
   "outputs": [],
   "source": [
    "def process_nvd_json(url: str) -> pd.DataFrame:\n",
    "    \"\"\"\n",
    "    Download and process NVD JSON feed for a given year.\n",
    "    Returns DataFrame with columns: id, published_date, cvss3_base_score, cwe_ids.\n",
    "    \"\"\"\n",
    "    resp = requests.get(url)\n",
    "    data = json.loads(gzip.decompress(resp.content))\n",
    "    records = []\n",
    "    for item in data.get('CVE_Items', []):\n",
    "        cve_id = item['cve']['CVE_data_meta']['ID']\n",
    "        pub_date = item.get('publishedDate')\n",
    "        impact = item.get('impact', {}).get('baseMetricV3', {})\n",
    "        score = impact.get('cvssV3', {}).get('baseScore')\n",
    "        # extract CWEs\n",
    "        cwes = []\n",
    "        for p in item['cve']['problemtype']['problemtype_data']:\n",
    "            for desc in p['description']:\n",
    "                if desc['value'].startswith('CWE-'):\n",
    "                    cwes.append(desc['value'])\n",
    "        records.append({\n",
    "            'id': cve_id,\n",
    "            'published_date': pub_date,\n",
    "            'cvss3_base_score': score,\n",
    "            'cwe_ids': ','.join(sorted(set(cwes)))\n",
    "        })\n",
    "    df = pd.DataFrame(records)\n",
    "    df['published_date'] = pd.to_datetime(df['published_date'], errors='coerce')\n",
    "    df['cvss3_base_score'] = pd.to_numeric(df['cvss3_base_score'], errors='coerce')\n",
    "    return df\n"
   ]
  },
  {
   "cell_type": "code",
   "execution_count": 29,
   "id": "bf586d1d",
   "metadata": {},
   "outputs": [],
   "source": [
    "def process_kev_json(url: str) -> pd.DataFrame:\n",
    "    \"\"\"\n",
    "    Download and process CISA KEV JSON catalog.\n",
    "    Returns DataFrame with columns: id, kev_added_date.\n",
    "    \"\"\"\n",
    "    resp = requests.get(url)\n",
    "    data = resp.json()\n",
    "        \n",
    "    df = pd.DataFrame(data.get('vulnerabilities', []))\n",
    "    df = df.rename(columns={'cveID':'id', 'dateAdded':'kev_added_date'})\n",
    "    df['id'] = df['id'].str.upper()\n",
    "    df['kev_added_date'] = pd.to_datetime(df['kev_added_date'], errors='coerce')\n",
    "    return df[['id', 'kev_added_date']]\n"
   ]
  },
  {
   "cell_type": "code",
   "execution_count": 50,
   "id": "e6baa769",
   "metadata": {},
   "outputs": [],
   "source": [
    "def process_cwe_xml(url: str) -> pd.DataFrame:\n",
    "    \"\"\"\n",
    "    Download and parse CWE XML taxonomy.\n",
    "    Returns DataFrame with columns: cwe_id, name, description.\n",
    "    \"\"\"\n",
    "    resp = requests.get(url)\n",
    "    with zipfile.ZipFile(BytesIO(resp.content)) as z:\n",
    "        xml_file = [n for n in z.namelist() if n.endswith('.xml')][0]\n",
    "        with z.open(xml_file) as f:\n",
    "            doc = xmltodict.parse(f.read())\n",
    "    weaknesses = doc['Weakness_Catalog']['Weaknesses']['Weakness']\n",
    "    records = []\n",
    "    for w in weaknesses:\n",
    "        records.append({\n",
    "            'cwe_id': w['@ID'],\n",
    "            'name': w.get('Name'),\n",
    "            'description': w.get('Description', {}).get('Description_Text')\n",
    "        })\n",
    "    return pd.DataFrame(records)\n"
   ]
  },
  {
   "cell_type": "markdown",
   "id": "a6dfc8a0",
   "metadata": {},
   "source": [
    "## 3. Main ETL Pipeline"
   ]
  },
  {
   "cell_type": "code",
   "execution_count": 53,
   "id": "481396f3",
   "metadata": {},
   "outputs": [
    {
     "name": "stdout",
     "output_type": "stream",
     "text": [
      "Processing NVD data...\n",
      "Processing KEV data...\n",
      "Processing CWE taxonomy...\n"
     ]
    },
    {
     "ename": "NameError",
     "evalue": "name 'xmltodict' is not defined",
     "output_type": "error",
     "traceback": [
      "\u001b[1;31m---------------------------------------------------------------------------\u001b[0m",
      "\u001b[1;31mNameError\u001b[0m                                 Traceback (most recent call last)",
      "Cell \u001b[1;32mIn[53], line 32\u001b[0m\n\u001b[0;32m     29\u001b[0m     \u001b[38;5;28mprint\u001b[39m(\u001b[38;5;124m'\u001b[39m\u001b[38;5;124mETL complete, saved merged_vuln_analysis.csv\u001b[39m\u001b[38;5;124m'\u001b[39m)\n\u001b[0;32m     31\u001b[0m \u001b[38;5;28;01mif\u001b[39;00m \u001b[38;5;18m__name__\u001b[39m \u001b[38;5;241m==\u001b[39m \u001b[38;5;124m'\u001b[39m\u001b[38;5;124m__main__\u001b[39m\u001b[38;5;124m'\u001b[39m:\n\u001b[1;32m---> 32\u001b[0m     main()\n",
      "Cell \u001b[1;32mIn[53], line 13\u001b[0m, in \u001b[0;36mmain\u001b[1;34m()\u001b[0m\n\u001b[0;32m     11\u001b[0m kev_df \u001b[38;5;241m=\u001b[39m process_kev_json(kev_url)\n\u001b[0;32m     12\u001b[0m \u001b[38;5;28mprint\u001b[39m(\u001b[38;5;124m'\u001b[39m\u001b[38;5;124mProcessing CWE taxonomy...\u001b[39m\u001b[38;5;124m'\u001b[39m)\n\u001b[1;32m---> 13\u001b[0m cwe_df \u001b[38;5;241m=\u001b[39m process_cwe_xml(cwe_url)\n\u001b[0;32m     15\u001b[0m \u001b[38;5;66;03m# Merge NVD and KEV\u001b[39;00m\n\u001b[0;32m     16\u001b[0m merged \u001b[38;5;241m=\u001b[39m nvd_df\u001b[38;5;241m.\u001b[39mmerge(kev_df, on\u001b[38;5;241m=\u001b[39m\u001b[38;5;124m'\u001b[39m\u001b[38;5;124mid\u001b[39m\u001b[38;5;124m'\u001b[39m, how\u001b[38;5;241m=\u001b[39m\u001b[38;5;124m'\u001b[39m\u001b[38;5;124mleft\u001b[39m\u001b[38;5;124m'\u001b[39m, indicator\u001b[38;5;241m=\u001b[39m\u001b[38;5;28;01mTrue\u001b[39;00m)\n",
      "Cell \u001b[1;32mIn[50], line 10\u001b[0m, in \u001b[0;36mprocess_cwe_xml\u001b[1;34m(url)\u001b[0m\n\u001b[0;32m      8\u001b[0m     xml_file \u001b[38;5;241m=\u001b[39m [n \u001b[38;5;28;01mfor\u001b[39;00m n \u001b[38;5;129;01min\u001b[39;00m z\u001b[38;5;241m.\u001b[39mnamelist() \u001b[38;5;28;01mif\u001b[39;00m n\u001b[38;5;241m.\u001b[39mendswith(\u001b[38;5;124m'\u001b[39m\u001b[38;5;124m.xml\u001b[39m\u001b[38;5;124m'\u001b[39m)][\u001b[38;5;241m0\u001b[39m]\n\u001b[0;32m      9\u001b[0m     \u001b[38;5;28;01mwith\u001b[39;00m z\u001b[38;5;241m.\u001b[39mopen(xml_file) \u001b[38;5;28;01mas\u001b[39;00m f:\n\u001b[1;32m---> 10\u001b[0m         doc \u001b[38;5;241m=\u001b[39m xmltodict\u001b[38;5;241m.\u001b[39mparse(f\u001b[38;5;241m.\u001b[39mread())\n\u001b[0;32m     11\u001b[0m weaknesses \u001b[38;5;241m=\u001b[39m doc[\u001b[38;5;124m'\u001b[39m\u001b[38;5;124mWeakness_Catalog\u001b[39m\u001b[38;5;124m'\u001b[39m][\u001b[38;5;124m'\u001b[39m\u001b[38;5;124mWeaknesses\u001b[39m\u001b[38;5;124m'\u001b[39m][\u001b[38;5;124m'\u001b[39m\u001b[38;5;124mWeakness\u001b[39m\u001b[38;5;124m'\u001b[39m]\n\u001b[0;32m     12\u001b[0m records \u001b[38;5;241m=\u001b[39m []\n",
      "\u001b[1;31mNameError\u001b[0m: name 'xmltodict' is not defined"
     ]
    }
   ],
   "source": [
    "def main():\n",
    "    # URLs\n",
    "    nvd_url = 'https://nvd.nist.gov/feeds/json/cve/1.1/nvdcve-1.1-2024.json.gz'\n",
    "    kev_url = 'https://www.cisa.gov/sites/default/files/feeds/known_exploited_vulnerabilities.json'\n",
    "    cwe_url = 'https://cwe.mitre.org/data/xml/cwec_latest.xml.zip'\n",
    "    \n",
    "    # Process datasets\n",
    "    print('Processing NVD data...')\n",
    "    nvd_df = process_nvd_json(nvd_url)\n",
    "    print('Processing KEV data...')\n",
    "    kev_df = process_kev_json(kev_url)\n",
    "    print('Processing CWE taxonomy...')\n",
    "    cwe_df = process_cwe_xml(cwe_url)\n",
    "\n",
    "    # Merge NVD and KEV\n",
    "    merged = nvd_df.merge(kev_df, on='id', how='left', indicator=True)\n",
    "    merged['is_exploited'] = (merged['_merge'] == 'both')\n",
    "\n",
    "    # Attach CWE names\n",
    "    exploded = merged.assign(cwe_id=merged['cwe_ids'].str.split(',')).explode('cwe_id')\n",
    "    final_df = exploded.merge(cwe_df, on='cwe_id', how='left')\n",
    "\n",
    "    # Feature engineering\n",
    "    now = datetime.utcnow()\n",
    "    final_df['vuln_age_days'] = (now - final_df['published_date']).dt.days\n",
    "    final_df['severity_level'] = pd.cut(final_df['cvss3_base_score'], bins=[0,4,7,9,10], labels=['Low','Medium','High','Critical'])\n",
    "\n",
    "    final_df.to_csv('merged_vuln_analysis.csv', index=False)\n",
    "    print('ETL complete, saved merged_vuln_analysis.csv')\n",
    "\n",
    "if __name__ == '__main__':\n",
    "    main()"
   ]
  },
  {
   "cell_type": "markdown",
   "id": "317cea8b",
   "metadata": {},
   "source": [
    "## 4. Exploratory Data Analysis & Modeling"
   ]
  },
  {
   "cell_type": "code",
   "execution_count": null,
   "id": "01665d03",
   "metadata": {},
   "outputs": [],
   "source": [
    "df = pd.read_csv('merged_vuln_analysis.csv')\n",
    "df['published_date'] = pd.to_datetime(df['published_date'], errors='coerce')\n",
    "df['kev_added_date'] = pd.to_datetime(df['kev_added_date'], errors='coerce')\n",
    "df['vuln_age_days'] = (pd.Timestamp.utcnow() - df['published_date']).dt.days\n"
   ]
  },
  {
   "cell_type": "code",
   "execution_count": null,
   "id": "4f6a9539",
   "metadata": {},
   "outputs": [],
   "source": [
    "# Time series plot\n",
    "ts = df.set_index('published_date').resample('M').size()\n",
    "ts_ke = df[df['is_exploited']].set_index('published_date').resample('M').size()\n",
    "plt.figure(figsize=(10,5))\n",
    "plt.plot(ts.index, ts.values, label='All CVEs')\n",
    "plt.plot(ts_ke.index, ts_ke.values, label='Exploited CVEs')\n",
    "plt.title('Monthly CVE Counts')\n",
    "plt.legend()\n",
    "plt.show()"
   ]
  },
  {
   "cell_type": "code",
   "execution_count": null,
   "id": "d8e61ff4",
   "metadata": {},
   "outputs": [],
   "source": [
    "# CWE frequency\n",
    "top_cwes = df['cwe_id'].value_counts().nlargest(10)\n",
    "plt.figure(figsize=(8,4))\n",
    "top_cwes.plot(kind='barh')\n",
    "plt.title('Top 10 CWEs')\n",
    "plt.show()"
   ]
  },
  {
   "cell_type": "code",
   "execution_count": null,
   "id": "ab846149",
   "metadata": {},
   "outputs": [],
   "source": [
    "# Descriptive stats\n",
    "stats = df.groupby('is_exploited')[['cvss3_base_score','vuln_age_days']].agg(['mean','median','std'])\n",
    "stats"
   ]
  },
  {
   "cell_type": "code",
   "execution_count": null,
   "id": "e12b735c",
   "metadata": {},
   "outputs": [],
   "source": [
    "# Logistic regression\n",
    "X = df[['cvss3_base_score','vuln_age_days']].dropna()\n",
    "y = df.loc[X.index, 'is_exploited']\n",
    "model = LogisticRegression(max_iter=1000)\n",
    "model.fit(X, y)\n",
    "print('Coefficients:', model.coef_, 'Intercept:', model.intercept_)"
   ]
  },
  {
   "cell_type": "code",
   "execution_count": null,
   "id": "fb1f04bb",
   "metadata": {},
   "outputs": [],
   "source": [
    "# Survival analysis\n",
    "kmf = KaplanMeierFitter()\n",
    "T = df['vuln_age_days']\n",
    "E = df['is_exploited']\n",
    "kmf.fit(T, event_observed=E)\n",
    "kmf.plot_survival_function()\n",
    "plt.title('Time to Exploitation Survival')\n",
    "plt.show()"
   ]
  },
  {
   "cell_type": "code",
   "execution_count": null,
   "id": "3eef463c-2bab-4ffd-ab40-0fd48a812ca8",
   "metadata": {},
   "outputs": [],
   "source": []
  }
 ],
 "metadata": {
  "kernelspec": {
   "display_name": "Python [conda env:base] *",
   "language": "python",
   "name": "conda-base-py"
  },
  "language_info": {
   "codemirror_mode": {
    "name": "ipython",
    "version": 3
   },
   "file_extension": ".py",
   "mimetype": "text/x-python",
   "name": "python",
   "nbconvert_exporter": "python",
   "pygments_lexer": "ipython3",
   "version": "3.12.7"
  }
 },
 "nbformat": 4,
 "nbformat_minor": 5
}
