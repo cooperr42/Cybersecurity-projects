{
 "cells": [
  {
   "cell_type": "markdown",
   "id": "11c241ca",
   "metadata": {},
   "source": [
    "# Cybersecurity Vulnerability Analysis"
   ]
  },
  {
   "cell_type": "markdown",
   "id": "b5a59bc6",
   "metadata": {},
   "source": [
    "This notebook loads NVD, KEV, and CWE data, merges them, and performs basic analysis."
   ]
  },
  {
   "cell_type": "code",
   "execution_count": 4,
   "id": "9389508e",
   "metadata": {},
   "outputs": [],
   "source": [
    "import pandas as pd\n",
    "import matplotlib.pyplot as plt\n",
    "import seaborn as sns\n",
    "import plotly.express as px\n",
    "import plotly.graph_objects as go\n",
    "from plotly.subplots import make_subplots\n",
    "\n",
    "# Load NVD JSON\n",
    "url = 'https://nvd.nist.gov/feeds/json/cve/1.1/nvdcve-1.1-2024.json.gz'\n",
    "data = json.loads(gzip.decompress(requests.get(url).content))\n",
    "rows = []\n",
    "for item in data['CVE_Items']:\n",
    "    cid = item['cve']['CVE_data_meta']['ID']\n",
    "    pd0 = item['publishedDate']\n",
    "    score = item.get('impact',{}).get('baseMetricV3',{}).get('cvssV3',{}).get('baseScore')\n",
    "    cwes = [d['value'] for p in item['cve']['problemtype']['problemtype_data'] for d in p['description'] if d['value'].startswith('CWE-')]\n",
    "    rows.append({'id':cid,'published':pd0,'cvss':score,'cwe':','.join(set(cwes))})\n",
    "nvd = pd.DataFrame(rows)\n",
    "nvd['published'] = pd.to_datetime(nvd['published'])\n"
   ]
  },
  {
   "cell_type": "code",
   "execution_count": 6,
   "id": "0ab747e3",
   "metadata": {},
   "outputs": [],
   "source": [
    "# Load KEV\n",
    "kev = pd.DataFrame(requests.get(\n",
    "    'https://www.cisa.gov/sites/default/files/feeds/known_exploited_vulnerabilities.json'\n",
    ").json()['vulnerabilities'])\n",
    "kev = kev.rename(columns={'cveID':'id','dateAdded':'kev_date'})\n",
    "kev['kev_date'] = pd.to_datetime(kev['kev_date'])\n"
   ]
  },
  {
   "cell_type": "code",
   "execution_count": 7,
   "id": "c7f9ffb0",
   "metadata": {},
   "outputs": [
    {
     "ename": "NameError",
     "evalue": "name 'BytesIO' is not defined",
     "output_type": "error",
     "traceback": [
      "\u001b[1;31m---------------------------------------------------------------------------\u001b[0m",
      "\u001b[1;31mNameError\u001b[0m                                 Traceback (most recent call last)",
      "Cell \u001b[1;32mIn[7], line 3\u001b[0m\n\u001b[0;32m      1\u001b[0m \u001b[38;5;66;03m# Load CWE\u001b[39;00m\n\u001b[0;32m      2\u001b[0m z \u001b[38;5;241m=\u001b[39m requests\u001b[38;5;241m.\u001b[39mget(\u001b[38;5;124m'\u001b[39m\u001b[38;5;124mhttps://cwe.mitre.org/data/xml/cwec_latest.xml.zip\u001b[39m\u001b[38;5;124m'\u001b[39m)\u001b[38;5;241m.\u001b[39mcontent\n\u001b[1;32m----> 3\u001b[0m \u001b[38;5;28;01mwith\u001b[39;00m gzip\u001b[38;5;241m.\u001b[39mGzipFile(fileobj\u001b[38;5;241m=\u001b[39mBytesIO(z)) \u001b[38;5;28;01mas\u001b[39;00m f:\n\u001b[0;32m      4\u001b[0m     xml \u001b[38;5;241m=\u001b[39m xmltodict\u001b[38;5;241m.\u001b[39mparse(f\u001b[38;5;241m.\u001b[39mread())\n\u001b[0;32m      5\u001b[0m weaks \u001b[38;5;241m=\u001b[39m xml[\u001b[38;5;124m'\u001b[39m\u001b[38;5;124mWeakness_Catalog\u001b[39m\u001b[38;5;124m'\u001b[39m][\u001b[38;5;124m'\u001b[39m\u001b[38;5;124mWeaknesses\u001b[39m\u001b[38;5;124m'\u001b[39m][\u001b[38;5;124m'\u001b[39m\u001b[38;5;124mWeakness\u001b[39m\u001b[38;5;124m'\u001b[39m]\n",
      "\u001b[1;31mNameError\u001b[0m: name 'BytesIO' is not defined"
     ]
    }
   ],
   "source": [
    "# Load CWE\n",
    "z = requests.get('https://cwe.mitre.org/data/xml/cwec_latest.xml.zip').content\n",
    "with gzip.GzipFile(fileobj=BytesIO(z)) as f:\n",
    "    xml = xmltodict.parse(f.read())\n",
    "weaks = xml['Weakness_Catalog']['Weaknesses']['Weakness']\n",
    "cwe = pd.DataFrame([{'cwe':w['@ID'],'name':w.get('Name')} for w in weaks])\n"
   ]
  },
  {
   "cell_type": "code",
   "execution_count": null,
   "id": "4e19f7e5",
   "metadata": {},
   "outputs": [],
   "source": [
    "# Merge\n",
    "df = nvd.merge(kev[['id','kev_date']],on='id',how='left')\n",
    "df['exploited']=df['kev_date'].notna()\n",
    "df = df.assign(cwe_id=df['cwe'].str.split(',')).explode('cwe_id').merge(cwe,on_left='cwe_id',on='cwe',how='left')\n"
   ]
  },
  {
   "cell_type": "code",
   "execution_count": null,
   "id": "2b99e8f4",
   "metadata": {},
   "outputs": [],
   "source": [
    "# Feature Engineering\n",
    "now = datetime.utcnow()\n",
    "df['age_days'] = (now - df['published']).dt.days\n",
    "df['sev']=pd.cut(df['cvss'],bins=[0,4,7,9,10],labels=['Low','Med','High','Crit'])\n"
   ]
  },
  {
   "cell_type": "code",
   "execution_count": 15,
   "id": "939d5da9",
   "metadata": {},
   "outputs": [
    {
     "ename": "NameError",
     "evalue": "name 'df' is not defined",
     "output_type": "error",
     "traceback": [
      "\u001b[1;31m---------------------------------------------------------------------------\u001b[0m",
      "\u001b[1;31mNameError\u001b[0m                                 Traceback (most recent call last)",
      "Cell \u001b[1;32mIn[15], line 2\u001b[0m\n\u001b[0;32m      1\u001b[0m \u001b[38;5;66;03m# Time Series\u001b[39;00m\n\u001b[1;32m----> 2\u001b[0m ts \u001b[38;5;241m=\u001b[39m df\u001b[38;5;241m.\u001b[39mset_index(\u001b[38;5;124m'\u001b[39m\u001b[38;5;124mpublished\u001b[39m\u001b[38;5;124m'\u001b[39m)\u001b[38;5;241m.\u001b[39mresample(\u001b[38;5;124m'\u001b[39m\u001b[38;5;124mM\u001b[39m\u001b[38;5;124m'\u001b[39m)\u001b[38;5;241m.\u001b[39msize()\n\u001b[0;32m      3\u001b[0m ts_e \u001b[38;5;241m=\u001b[39m df[df[\u001b[38;5;124m'\u001b[39m\u001b[38;5;124mexploited\u001b[39m\u001b[38;5;124m'\u001b[39m]]\u001b[38;5;241m.\u001b[39mresample(\u001b[38;5;124m'\u001b[39m\u001b[38;5;124mM\u001b[39m\u001b[38;5;124m'\u001b[39m,on\u001b[38;5;241m=\u001b[39m\u001b[38;5;124m'\u001b[39m\u001b[38;5;124mpublished\u001b[39m\u001b[38;5;124m'\u001b[39m)\u001b[38;5;241m.\u001b[39msize()\n\u001b[0;32m      4\u001b[0m plt\u001b[38;5;241m.\u001b[39mplot(ts,label\u001b[38;5;241m=\u001b[39m\u001b[38;5;124m'\u001b[39m\u001b[38;5;124mAll\u001b[39m\u001b[38;5;124m'\u001b[39m); plt\u001b[38;5;241m.\u001b[39mplot(ts_e,label\u001b[38;5;241m=\u001b[39m\u001b[38;5;124m'\u001b[39m\u001b[38;5;124mEx\u001b[39m\u001b[38;5;124m'\u001b[39m); plt\u001b[38;5;241m.\u001b[39mlegend(); plt\u001b[38;5;241m.\u001b[39mshow()\n",
      "\u001b[1;31mNameError\u001b[0m: name 'df' is not defined"
     ]
    }
   ],
   "source": [
    "# Time Series\n",
    "ts = df.set_index('published').resample('M').size()\n",
    "ts_e = df[df['exploited']].resample('M',on='published').size()\n",
    "plt.plot(ts,label='All'); plt.plot(ts_e,label='Ex'); plt.legend(); plt.show()"
   ]
  },
  {
   "cell_type": "code",
   "execution_count": 13,
   "id": "06102259",
   "metadata": {},
   "outputs": [
    {
     "ename": "NameError",
     "evalue": "name 'df' is not defined",
     "output_type": "error",
     "traceback": [
      "\u001b[1;31m---------------------------------------------------------------------------\u001b[0m",
      "\u001b[1;31mNameError\u001b[0m                                 Traceback (most recent call last)",
      "Cell \u001b[1;32mIn[13], line 2\u001b[0m\n\u001b[0;32m      1\u001b[0m \u001b[38;5;66;03m# Top CWEs\u001b[39;00m\n\u001b[1;32m----> 2\u001b[0m \u001b[38;5;28mprint\u001b[39m(df[\u001b[38;5;124m'\u001b[39m\u001b[38;5;124mcwe_id\u001b[39m\u001b[38;5;124m'\u001b[39m]\u001b[38;5;241m.\u001b[39mvalue_counts()\u001b[38;5;241m.\u001b[39mhead(\u001b[38;5;241m10\u001b[39m))\n",
      "\u001b[1;31mNameError\u001b[0m: name 'df' is not defined"
     ]
    }
   ],
   "source": [
    "# Top CWEs\n",
    "print(df['cwe_id'].value_counts().head(10))"
   ]
  },
  {
   "cell_type": "code",
   "execution_count": null,
   "id": "4c51af8d",
   "metadata": {},
   "outputs": [],
   "source": [
    "# Stats & Model\n",
    "print(df.groupby('exploited')['cvss','age_days'].agg(['mean','median']))\n",
    "X=df[['cvss','age_days']].dropna(); y=df.loc[X.index,'exploited']\n",
    "m=LogisticRegression(max_iter=500).fit(X,y)\n",
    "print(m.coef_)"
   ]
  },
  {
   "cell_type": "code",
   "execution_count": null,
   "id": "e6789f92",
   "metadata": {},
   "outputs": [],
   "source": [
    "# Survival\n",
    "km=KaplanMeierFitter(); km.fit(df['age_days'],event_observed=df['exploited']); km.plot_survival_function(); plt.show()"
   ]
  },
  {
   "cell_type": "code",
   "execution_count": null,
   "id": "a9d73501-3cc3-4976-ac52-7a401006fd7d",
   "metadata": {},
   "outputs": [],
   "source": []
  }
 ],
 "metadata": {
  "kernelspec": {
   "display_name": "Python [conda env:base] *",
   "language": "python",
   "name": "conda-base-py"
  },
  "language_info": {
   "codemirror_mode": {
    "name": "ipython",
    "version": 3
   },
   "file_extension": ".py",
   "mimetype": "text/x-python",
   "name": "python",
   "nbconvert_exporter": "python",
   "pygments_lexer": "ipython3",
   "version": "3.12.7"
  }
 },
 "nbformat": 4,
 "nbformat_minor": 5
}
