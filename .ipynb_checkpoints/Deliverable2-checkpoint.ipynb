{
 "cells": [
  {
   "cell_type": "markdown",
   "id": "abc8740d",
   "metadata": {},
   "source": [
    "# Lab 12 Homework: Merging NVD & KEV\n",
    "\n",
    "**Objective:**  \n",
    "Acquire NVD & KEV data, load into Pandas DataFrames, clean, and merge on CVE ID to flag known exploits."
   ]
  },
  {
   "cell_type": "markdown",
   "id": "2fed7795",
   "metadata": {},
   "source": [
    "## 1. Imports & Helper Function"
   ]
  },
  {
   "cell_type": "code",
   "execution_count": null,
   "id": "1306fa2e",
   "metadata": {},
   "outputs": [],
   "source": [
    "import json\n",
    "import pandas as pd\n",
    "from typing import Tuple\n",
    "\n",
    "def process_nvd_json(file_path: str) -> Tuple[pd.DataFrame, pd.DataFrame]:\n",
    "    with open(file_path, 'r', encoding='ISO-8859-1') as f:\n",
    "        nvd_data = json.load(f)\n",
    "\n",
    "    cve_items = []\n",
    "    cpe_items = []\n",
    "    for item in nvd_data['CVE_Items']:\n",
    "        meta = item['cve']['CVE_data_meta']\n",
    "        cve_id = meta['ID']\n",
    "        descs = item['cve']['description']['description_data']\n",
    "\n",
    "        prob = item['cve']['problemtype']['problemtype_data']\n",
    "        try:\n",
    "            cwe = prob[0]['description'][0]['value']\n",
    "        except:\n",
    "            cwe = ''\n",
    "\n",
    "        impact3 = item.get('impact', {}) \\\n",
    "                      .get('baseMetricV3', {}) \\\n",
    "                      .get('cvssV3', {})\n",
    "        cve_items.append({\n",
    "            'id': cve_id,\n",
    "            'assigner': meta.get('ASSIGNER',''),\n",
    "            'published_date': item.get('publishedDate'),\n",
    "            'last_modified_date': item.get('lastModifiedDate'),\n",
    "            'description': next((d['value'] for d in descs if d['lang']=='en'), ''),\n",
    "            'cwe': cwe,\n",
    "            'cvss3_vector': impact3.get('vectorString',''),\n",
    "            'cvss3_base_score': impact3.get('baseScore', None),\n",
    "            'cvss3_base_severity': impact3.get('baseSeverity','')\n",
    "        })\n",
    "\n",
    "        for node in item['configurations'].get('nodes', []):\n",
    "            for cm in node.get('cpe_match', []):\n",
    "                uri = cm.get('cpe23Uri','')\n",
    "                parts = uri.split(':')\n",
    "                cpe_items.append({\n",
    "                    'cve_id': cve_id,\n",
    "                    'cpe23Uri': uri,\n",
    "                    'vulnerable': cm.get('vulnerable', False),\n",
    "                    'versionStartIncluding': cm.get('versionStartIncluding',''),\n",
    "                    'versionEndIncluding': cm.get('versionEndIncluding',''),\n",
    "                    'vendor': parts[3] if len(parts)>3 else '',\n",
    "                    'product': parts[4] if len(parts)>4 else '',\n",
    "                    'version': parts[5] if len(parts)>5 else ''\n",
    "                })\n",
    "\n",
    "    cve_df = pd.DataFrame(cve_items)\n",
    "    cpe_df = pd.DataFrame(cpe_items)\n",
    "    for col in ['published_date','last_modified_date']:\n",
    "        cve_df[col] = pd.to_datetime(cve_df[col], errors='coerce')\n",
    "    cve_df.sort_values('id', inplace=True)\n",
    "    cpe_df.sort_values(['cve_id','cpe23Uri'], inplace=True)\n",
    "    return cve_df, cpe_df\n"
   ]
  },
  {
   "cell_type": "markdown",
   "id": "07cd14d2",
   "metadata": {},
   "source": [
    "## 2. Load & Process NVD JSON (2023)"
   ]
  },
  {
   "cell_type": "code",
   "execution_count": null,
   "id": "897768b5",
   "metadata": {},
   "outputs": [],
   "source": [
    "nvd_file = 'nvdcve-1.1-2023.json'\n",
    "cve_df, cpe_df = process_nvd_json(nvd_file)\n",
    "print(\"=== NVD CVE DataFrame ===\")\n",
    "cve_df.info()\n",
    "cve_df.head()"
   ]
  },
  {
   "cell_type": "markdown",
   "id": "be438ae8",
   "metadata": {},
   "source": [
    "## 3. Load KEV Catalog"
   ]
  },
  {
   "cell_type": "code",
   "execution_count": null,
   "id": "32c48057",
   "metadata": {},
   "outputs": [],
   "source": [
    "kev_file = 'kev_catalog.csv'\n",
    "df_kev = pd.read_csv(kev_file)\n",
    "df_kev.rename(columns={'cveID':'id','dateAdded':'kev_added_date'}, inplace=True)\n",
    "df_kev['kev_added_date'] = pd.to_datetime(df_kev['kev_added_date'], errors='coerce')\n",
    "print(\"=== KEV DataFrame ===\")\n",
    "df_kev.info()\n",
    "df_kev.head()"
   ]
  },
  {
   "cell_type": "markdown",
   "id": "9eb31eae",
   "metadata": {},
   "source": [
    "## 4. Merge & Flag Exploited"
   ]
  },
  {
   "cell_type": "code",
   "execution_count": null,
   "id": "28382760",
   "metadata": {},
   "outputs": [],
   "source": [
    "df_merged = cve_df.merge(df_kev[['id','kev_added_date']], on='id', how='left')\n",
    "df_merged['is_exploited'] = df_merged['kev_added_date'].notna()\n",
    "print(\"=== Merged DataFrame ===\")\n",
    "df_merged.info()\n",
    "print(\"\\nFirst 5 rows:\")\n",
    "df_merged.head()\n",
    "print(\"\\nExploited counts:\")\n",
    "df_merged['is_exploited'].value_counts()"
   ]
  },
  {
   "cell_type": "markdown",
   "id": "45f9008e",
   "metadata": {},
   "source": [
    "## 5. Save Final Table"
   ]
  },
  {
   "cell_type": "code",
   "execution_count": null,
   "id": "11cd76d2",
   "metadata": {},
   "outputs": [],
   "source": [
    "out_csv = 'nvd_plus_kev_2023.csv'\n",
    "df_merged.to_csv(out_csv, index=False)\n",
    "print(f\"Saved merged table to {out_csv}\")"
   ]
  }
 ],
 "metadata": {},
 "nbformat": 4,
 "nbformat_minor": 5
}
