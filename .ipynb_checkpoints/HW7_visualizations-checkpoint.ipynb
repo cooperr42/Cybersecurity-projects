{
 "cells": [
  {
   "cell_type": "markdown",
   "id": "03db7d4a",
   "metadata": {},
   "source": [
    "# HW7: Data Visualization\n",
    "\n",
    "**Objective:** Practice data visualization techniques using the merged NVD+KEV dataset.\n",
    "---\n",
    "**Instructions:**\n",
    "1. Run each code cell in order.\n",
    "2. Interpret each plot in the accompanying markdown cell.\n",
    "3. Save and submit this notebook (`HW7_visualizations.ipynb`).\n"
   ]
  },
  {
   "cell_type": "markdown",
   "id": "c67af0c0",
   "metadata": {},
   "source": [
    "## 1. Data Loading and Preparation\n",
    "- Load the merged NVD+KEV dataset.\n",
    "- Convert `CVSS v3 Score` to numeric and `Published Date` to datetime.\n",
    "- Drop rows with missing values in these fields for visualizations.\n"
   ]
  },
  {
   "cell_type": "code",
   "execution_count": null,
   "id": "2722fda9",
   "metadata": {},
   "outputs": [],
   "source": [
    "import pandas as pd\n",
    "\n",
    "# Load merged dataset (adjust path if needed)\n",
    "df = pd.read_csv('/mnt/data/merged_full_nvd_kev_2023.csv', parse_dates=['Published Date'], low_memory=False)\n",
    "\n",
    "# Convert types\n",
    "df['CVSS v3 Score'] = pd.to_numeric(df['CVSS v3 Score'], errors='coerce')\n",
    "df['Published Date'] = pd.to_datetime(df['Published Date'], errors='coerce')\n",
    "\n",
    "# Drop missing for analysis\n",
    "df_clean = df.dropna(subset=['CVSS v3 Score', 'Published Date', 'is_exploited'])\n",
    "\n",
    "# Show head\n",
    "df_clean.head()"
   ]
  },
  {
   "cell_type": "markdown",
   "id": "e9556ae0",
   "metadata": {},
   "source": [
    "## 2. Visualization 1: Distribution of Vulnerability Severity\n",
    "- Histogram of CVSS v3 Scores\n",
    "- Axes: `CVSS v3 Score` (bins) vs. Frequency\n"
   ]
  },
  {
   "cell_type": "code",
   "execution_count": null,
   "id": "3570f973",
   "metadata": {},
   "outputs": [],
   "source": [
    "import matplotlib.pyplot as plt\n",
    "\n",
    "plt.figure()\n",
    "plt.hist(df_clean['CVSS v3 Score'], bins=20)\n",
    "plt.title('Distribution of CVSS v3 Scores (2023)')\n",
    "plt.xlabel('CVSS v3 Score')\n",
    "plt.ylabel('Frequency')\n",
    "plt.show()"
   ]
  },
  {
   "cell_type": "markdown",
   "id": "1082ca23",
   "metadata": {},
   "source": [
    "**Interpretation:**\n",
    "The histogram shows the distribution of severity scores. Most vulnerabilities cluster around the mid-range, with fewer very low or very high scores. The distribution is slightly right-skewed, indicating a tail of high-severity issues."
   ]
  },
  {
   "cell_type": "markdown",
   "id": "0518c2cb",
   "metadata": {},
   "source": [
    "## 3. Visualization 2: Vulnerabilities Over Time\n",
    "- Line plot of monthly counts of published vulnerabilities\n",
    "- Axes: `Month` vs. `Number of Vulnerabilities Published`\n"
   ]
  },
  {
   "cell_type": "code",
   "execution_count": null,
   "id": "7fc29d03",
   "metadata": {},
   "outputs": [],
   "source": [
    "df_clean['Month'] = df_clean['Published Date'].dt.to_period('M').dt.to_timestamp()\n",
    "monthly_counts = df_clean.groupby('Month').size()\n",
    "\n",
    "plt.figure()\n",
    "plt.plot(monthly_counts.index, monthly_counts.values, marker='o')\n",
    "plt.title('Monthly Vulnerabilities Published (2023)')\n",
    "plt.xlabel('Month')\n",
    "plt.ylabel('Number of Vulnerabilities')\n",
    "plt.xticks(rotation=45)\n",
    "plt.tight_layout()\n",
    "plt.show()"
   ]
  },
  {
   "cell_type": "markdown",
   "id": "8de70a4d",
   "metadata": {},
   "source": [
    "**Interpretation:**\n",
    "The line plot reveals publication trends across the year. Vulnerabilities are not evenly distributed; certain months show peaks, possibly due to coordinated vendor disclosures or seasonal reporting."
   ]
  },
  {
   "cell_type": "markdown",
   "id": "6d5f7ee8",
   "metadata": {},
   "source": [
    "## 4. Visualization 3: Severity of Exploited vs. Non-Exploited\n",
    "- Box plot comparing CVSS v3 Scores for exploited vs. non-exploited vulnerabilities\n"
   ]
  },
  {
   "cell_type": "code",
   "execution_count": null,
   "id": "45129aaa",
   "metadata": {},
   "outputs": [],
   "source": [
    "exploited = df_clean[df_clean['is_exploited'] == True]['CVSS v3 Score']\n",
    "not_exploited = df_clean[df_clean['is_exploited'] == False]['CVSS v3 Score']\n",
    "\n",
    "plt.figure()\n",
    "plt.boxplot([exploited, not_exploited], labels=['Exploited', 'Not Exploited'])\n",
    "plt.title('CVSS v3 Score by Exploitation Status (2023)')\n",
    "plt.ylabel('CVSS v3 Score')\n",
    "plt.show()"
   ]
  },
  {
   "cell_type": "markdown",
   "id": "d2bdfc70",
   "metadata": {},
   "source": [
    "**Interpretation:**\n",
    "The box plot shows that exploited vulnerabilities tend to have higher median severity scores and wider spread compared to non-exploited ones, suggesting attackers preferentially target more severe issues."
   ]
  }
 ],
 "metadata": {},
 "nbformat": 4,
 "nbformat_minor": 5
}
