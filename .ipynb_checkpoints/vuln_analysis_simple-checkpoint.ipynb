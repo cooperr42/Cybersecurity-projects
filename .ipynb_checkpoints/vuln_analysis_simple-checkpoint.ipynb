{
 "cells": [
  {
   "cell_type": "markdown",
   "id": "11c241ca",
   "metadata": {},
   "source": [
    "# Cybersecurity Vulnerability Analysis"
   ]
  },
  {
   "cell_type": "markdown",
   "id": "b5a59bc6",
   "metadata": {},
   "source": [
    "This notebook loads NVD, KEV, and CWE data, merges them, and performs basic analysis."
   ]
  },
  {
   "cell_type": "code",
   "execution_count": null,
   "id": "9389508e",
   "metadata": {},
   "outputs": [],
   "source": [
    "import requests, gzip, json, pandas as pd, xmltodict\n",
    "from io import BytesIO\n",
    "from datetime import datetime\n",
    "from sklearn.linear_model import LogisticRegression\n",
    "from lifelines import KaplanMeierFitter\n",
    "import matplotlib.pyplot as plt\n",
    "\n",
    "# Load NVD JSON\n",
    "url = 'https://nvd.nist.gov/feeds/json/cve/1.1/nvdcve-1.1-2024.json.gz'\n",
    "data = json.loads(gzip.decompress(requests.get(url).content))\n",
    "rows = []\n",
    "for item in data['CVE_Items']:\n",
    "    cid = item['cve']['CVE_data_meta']['ID']\n",
    "    pd0 = item['publishedDate']\n",
    "    score = item.get('impact',{}).get('baseMetricV3',{}).get('cvssV3',{}).get('baseScore')\n",
    "    cwes = [d['value'] for p in item['cve']['problemtype']['problemtype_data'] for d in p['description'] if d['value'].startswith('CWE-')]\n",
    "    rows.append({'id':cid,'published':pd0,'cvss':score,'cwe':','.join(set(cwes))})\n",
    "nvd = pd.DataFrame(rows)\n",
    "nvd['published'] = pd.to_datetime(nvd['published'])\n"
   ]
  },
  {
   "cell_type": "code",
   "execution_count": null,
   "id": "0ab747e3",
   "metadata": {},
   "outputs": [],
   "source": [
    "# Load KEV\n",
    "kev = pd.DataFrame(requests.get(\n",
    "    'https://www.cisa.gov/sites/default/files/feeds/known_exploited_vulnerabilities.json'\n",
    ").json()['vulnerabilities'])\n",
    "kev = kev.rename(columns={'cveID':'id','dateAdded':'kev_date'})\n",
    "kev['kev_date'] = pd.to_datetime(kev['kev_date'])\n"
   ]
  },
  {
   "cell_type": "code",
   "execution_count": null,
   "id": "c7f9ffb0",
   "metadata": {},
   "outputs": [],
   "source": [
    "# Load CWE\n",
    "z = requests.get('https://cwe.mitre.org/data/xml/cwec_latest.xml.zip').content\n",
    "with gzip.GzipFile(fileobj=BytesIO(z)) as f:\n",
    "    xml = xmltodict.parse(f.read())\n",
    "weaks = xml['Weakness_Catalog']['Weaknesses']['Weakness']\n",
    "cwe = pd.DataFrame([{'cwe':w['@ID'],'name':w.get('Name')} for w in weaks])\n"
   ]
  },
  {
   "cell_type": "code",
   "execution_count": null,
   "id": "4e19f7e5",
   "metadata": {},
   "outputs": [],
   "source": [
    "# Merge\n",
    "df = nvd.merge(kev[['id','kev_date']],on='id',how='left')\n",
    "df['exploited']=df['kev_date'].notna()\n",
    "df = df.assign(cwe_id=df['cwe'].str.split(',')).explode('cwe_id').merge(cwe,on_left='cwe_id',on='cwe',how='left')\n"
   ]
  },
  {
   "cell_type": "code",
   "execution_count": null,
   "id": "2b99e8f4",
   "metadata": {},
   "outputs": [],
   "source": [
    "# Feature Engineering\n",
    "now = datetime.utcnow()\n",
    "df['age_days'] = (now - df['published']).dt.days\n",
    "df['sev']=pd.cut(df['cvss'],bins=[0,4,7,9,10],labels=['Low','Med','High','Crit'])\n"
   ]
  },
  {
   "cell_type": "code",
   "execution_count": null,
   "id": "939d5da9",
   "metadata": {},
   "outputs": [],
   "source": [
    "# Time Series\n",
    "ts = df.set_index('published').resample('M').size()\n",
    "ts_e = df[df['exploited']].resample('M',on='published').size()\n",
    "plt.plot(ts,label='All'); plt.plot(ts_e,label='Ex'); plt.legend(); plt.show()"
   ]
  },
  {
   "cell_type": "code",
   "execution_count": null,
   "id": "06102259",
   "metadata": {},
   "outputs": [],
   "source": [
    "# Top CWEs\n",
    "print(df['cwe_id'].value_counts().head(10))"
   ]
  },
  {
   "cell_type": "code",
   "execution_count": null,
   "id": "4c51af8d",
   "metadata": {},
   "outputs": [],
   "source": [
    "# Stats & Model\n",
    "print(df.groupby('exploited')['cvss','age_days'].agg(['mean','median']))\n",
    "X=df[['cvss','age_days']].dropna(); y=df.loc[X.index,'exploited']\n",
    "m=LogisticRegression(max_iter=500).fit(X,y)\n",
    "print(m.coef_)"
   ]
  },
  {
   "cell_type": "code",
   "execution_count": null,
   "id": "e6789f92",
   "metadata": {},
   "outputs": [],
   "source": [
    "# Survival\n",
    "km=KaplanMeierFitter(); km.fit(df['age_days'],event_observed=df['exploited']); km.plot_survival_function(); plt.show()"
   ]
  }
 ],
 "metadata": {},
 "nbformat": 4,
 "nbformat_minor": 5
}
