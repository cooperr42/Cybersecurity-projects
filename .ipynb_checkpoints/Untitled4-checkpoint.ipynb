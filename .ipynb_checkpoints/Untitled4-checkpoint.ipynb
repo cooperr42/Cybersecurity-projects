{
 "cells": [
  {
   "cell_type": "code",
   "execution_count": 18,
   "id": "2b318ce9-fec1-4b43-8013-51eea7fa9e32",
   "metadata": {},
   "outputs": [
    {
     "name": "stdout",
     "output_type": "stream",
     "text": [
      "COLUMNS:\n",
      " ['CWE-ID', 'Name', 'Weakness Abstraction', 'Status', 'Description', 'Extended Description', 'Related Weaknesses', 'Weakness Ordinalities', 'Applicable Platforms', 'Background Details', 'Alternate Terms', 'Modes Of Introduction', 'Exploitation Factors', 'Likelihood of Exploit', 'Common Consequences', 'Detection Methods', 'Potential Mitigations', 'Observed Examples', 'Functional Areas', 'Affected Resources', 'Taxonomy Mappings', 'Related Attack Patterns', 'Notes'] \n",
      "\n",
      "                                               CWE-ID  Name  \\\n",
      "15  External Control of System or Configuration Se...  Base   \n",
      "22  Improper Limitation of a Pathname to a Restric...  Base   \n",
      "41            Improper Resolution of Path Equivalence  Base   \n",
      "59  Improper Link Resolution Before File Access ('...  Base   \n",
      "\n",
      "   Weakness Abstraction                                        Description  \n",
      "15           Incomplete  Allowing external control of system settings c...  \n",
      "22               Stable  Many file operations are intended to take plac...  \n",
      "41           Incomplete  Path equivalence is usually employed in order ...  \n",
      "59                Draft                                                NaN  \n"
     ]
    }
   ],
   "source": [
    "# 1) Download the ZIP into memory\n",
    "cwe_url = \"https://cwe.mitre.org/data/csv/699.csv.zip\"\n",
    "resp = requests.get(cwe_url)\n",
    "resp.raise_for_status()\n",
    "\n",
    "# 2) Let pandas unzip + parse\n",
    "tmp = pd.read_csv(\n",
    "    BytesIO(resp.content),\n",
    "    compression=\"zip\",\n",
    "    dtype=str\n",
    ")\n",
    "\n",
    "# 3) Inspect the headers and a few rows side by side\n",
    "print(\"COLUMNS:\\n\", tmp.columns.tolist(), \"\\n\")\n",
    "print(\n",
    "    tmp.iloc[[0, 1, 2, 3]][\n",
    "        ['CWE-ID','Name','Weakness Abstraction','Description']\n",
    "    ]\n",
    ")"
   ]
  },
  {
   "cell_type": "code",
   "execution_count": null,
   "id": "96050c6f-b76e-40f7-bfdb-cd00a5feeaa3",
   "metadata": {},
   "outputs": [],
   "source": []
  }
 ],
 "metadata": {
  "kernelspec": {
   "display_name": "Python [conda env:base] *",
   "language": "python",
   "name": "conda-base-py"
  },
  "language_info": {
   "codemirror_mode": {
    "name": "ipython",
    "version": 3
   },
   "file_extension": ".py",
   "mimetype": "text/x-python",
   "name": "python",
   "nbconvert_exporter": "python",
   "pygments_lexer": "ipython3",
   "version": "3.12.7"
  }
 },
 "nbformat": 4,
 "nbformat_minor": 5
}
